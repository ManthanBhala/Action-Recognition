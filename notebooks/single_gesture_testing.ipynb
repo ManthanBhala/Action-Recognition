{
 "cells": [
  {
   "cell_type": "code",
   "execution_count": 1,
   "metadata": {},
   "outputs": [
    {
     "name": "stdout",
     "output_type": "stream",
     "text": [
      "/model-data\n"
     ]
    }
   ],
   "source": [
    "cd .."
   ]
  },
  {
   "cell_type": "code",
   "execution_count": 2,
   "metadata": {},
   "outputs": [
    {
     "name": "stdout",
     "output_type": "stream",
     "text": [
      "WARNING:tensorflow:From /model-data/pipeline/segmentation.py:75: calling import_graph_def (from tensorflow.python.framework.importer) with op_dict is deprecated and will be removed in a future version.\n",
      "Instructions for updating:\n",
      "Please file an issue at https://github.com/tensorflow/tensorflow/issues if you depend on this feature.\n"
     ]
    },
    {
     "name": "stderr",
     "output_type": "stream",
     "text": [
      "WARNING: Logging before flag parsing goes to stderr.\n",
      "W0711 13:50:01.669624 140274189141760 __init__.py:56] Some hub symbols are not available because TensorFlow version is less than 1.14\n",
      "Using TensorFlow backend.\n"
     ]
    }
   ],
   "source": [
    "from pipeline.segmentation import *\n",
    "from eighth_try.mobilenetv2 import *\n",
    "\n",
    "import collections\n",
    "import hashlib\n",
    "import os.path\n",
    "import random\n",
    "import re\n",
    "import sys\n",
    "\n",
    "import numpy as np\n",
    "import tensorflow as tf\n",
    "import tensorflow_hub as hub\n",
    "import keras\n",
    "from keras.applications.mobilenet_v2 import MobileNetV2\n",
    "from keras.applications.vgg16 import VGG16\n",
    "from keras.preprocessing import image\n",
    "from keras.applications.mobilenet_v2 import preprocess_input\n",
    "from keras.models import Model\n",
    "from keras.layers import Dense, Input, LSTM\n",
    "from pathlib import Path\n",
    "import sklearn\n",
    "from sklearn import datasets\n",
    "from sklearn import metrics\n",
    "import shutil\n",
    "from keras import initializers\n",
    "from keras.models import load_model\n",
    "import pickle\n",
    "from keras.utils import to_categorical\n",
    "from keras.preprocessing import sequence\n",
    "from keras.preprocessing.image import load_img, array_to_img, img_to_array\n",
    "from IPython.display import Image\n",
    "from IPython.display import display\n",
    "import cv2\n",
    "import matplotlib.pyplot as plt\n",
    "#from PIL import Image"
   ]
  },
  {
   "cell_type": "code",
   "execution_count": 3,
   "metadata": {},
   "outputs": [],
   "source": [
    "def get_pretrained_base_model_for_bottlenecks(show_model_summary = False):\n",
    "    model = MobileNetV2()\n",
    "    if show_model_summary:\n",
    "        model.summary()\n",
    "    base_model = Model(inputs=model.input, outputs=model.get_layer('global_average_pooling2d_1').output)\n",
    "    print(\"Base_model_loaded 100 percent\")\n",
    "    return base_model"
   ]
  },
  {
   "cell_type": "code",
   "execution_count": 4,
   "metadata": {},
   "outputs": [
    {
     "name": "stdout",
     "output_type": "stream",
     "text": [
      "WARNING:tensorflow:From /usr/local/lib/python3.5/dist-packages/tensorflow/python/framework/op_def_library.py:263: colocate_with (from tensorflow.python.framework.ops) is deprecated and will be removed in a future version.\n",
      "Instructions for updating:\n",
      "Colocations handled automatically by placer.\n"
     ]
    },
    {
     "name": "stderr",
     "output_type": "stream",
     "text": [
      "W0711 13:50:04.315125 140274189141760 deprecation.py:323] From /usr/local/lib/python3.5/dist-packages/tensorflow/python/framework/op_def_library.py:263: colocate_with (from tensorflow.python.framework.ops) is deprecated and will be removed in a future version.\n",
      "Instructions for updating:\n",
      "Colocations handled automatically by placer.\n"
     ]
    },
    {
     "name": "stdout",
     "output_type": "stream",
     "text": [
      "WARNING:tensorflow:From /usr/local/lib/python3.5/dist-packages/keras/backend/tensorflow_backend.py:3445: calling dropout (from tensorflow.python.ops.nn_ops) with keep_prob is deprecated and will be removed in a future version.\n",
      "Instructions for updating:\n",
      "Please use `rate` instead of `keep_prob`. Rate should be set to `rate = 1 - keep_prob`.\n"
     ]
    },
    {
     "name": "stderr",
     "output_type": "stream",
     "text": [
      "W0711 13:50:05.212991 140274189141760 deprecation.py:506] From /usr/local/lib/python3.5/dist-packages/keras/backend/tensorflow_backend.py:3445: calling dropout (from tensorflow.python.ops.nn_ops) with keep_prob is deprecated and will be removed in a future version.\n",
      "Instructions for updating:\n",
      "Please use `rate` instead of `keep_prob`. Rate should be set to `rate = 1 - keep_prob`.\n"
     ]
    },
    {
     "name": "stdout",
     "output_type": "stream",
     "text": [
      "WARNING:tensorflow:From /usr/local/lib/python3.5/dist-packages/tensorflow/python/ops/math_ops.py:3066: to_int32 (from tensorflow.python.ops.math_ops) is deprecated and will be removed in a future version.\n",
      "Instructions for updating:\n",
      "Use tf.cast instead.\n"
     ]
    },
    {
     "name": "stderr",
     "output_type": "stream",
     "text": [
      "W0711 13:50:06.967204 140274189141760 deprecation.py:323] From /usr/local/lib/python3.5/dist-packages/tensorflow/python/ops/math_ops.py:3066: to_int32 (from tensorflow.python.ops.math_ops) is deprecated and will be removed in a future version.\n",
      "Instructions for updating:\n",
      "Use tf.cast instead.\n"
     ]
    },
    {
     "name": "stdout",
     "output_type": "stream",
     "text": [
      "Base_model_loaded 100 percent\n",
      "Action Model Loaded\n"
     ]
    }
   ],
   "source": [
    "action_model=load_model(\"eighth_try/human_seg_rnn_mask_model.h5\")\n",
    "mobilenet_model=get_pretrained_base_model_for_bottlenecks(False)\n",
    "print(\"Action Model Loaded\")\n",
    "class_names = ['ABOVE', 'ACCIDENT', 'ADVISE_or_INFLUENCE', 'AFTERNOON', 'AGAIN', 'ALLIGATOR', 'ANSWER' ,'A_LOT', 'BECAME', 'COME_HERE', 'EXCEED', 'GENERATION', 'LESS_THAN', 'OF' ,'THREAT', 'TOTAL']\n"
   ]
  },
  {
   "cell_type": "code",
   "execution_count": 5,
   "metadata": {},
   "outputs": [],
   "source": [
    "video_path = \"testing_videos\"\n",
    "frame_target_dir = \"testing_frames\"\n",
    "gif_dir = \"testing_gif\"\n"
   ]
  },
  {
   "cell_type": "code",
   "execution_count": 6,
   "metadata": {},
   "outputs": [],
   "source": [
    "def video_to_frames_other(video_path,frame_target_dir):\n",
    "    #print(video_path)\n",
    "    vidObj = cv2.VideoCapture(video_path)\n",
    "    count = 0\n",
    "    success = 1\n",
    "    ensure_folder_exists(frame_target_dir)\n",
    "    names=[]\n",
    "    while success: \n",
    "        success, image = vidObj.read() \n",
    "        if image is None:\n",
    "            continue\n",
    "        framename=frame_target_dir+'/' + str(count)+\".jpeg\"\n",
    "        cv2.imwrite(framename,image)\n",
    "        names.append(framename)\n",
    "        count += 1\n",
    "    #print(\"Video to frame done\")\n",
    "    print(\"Number of frames = \" ,count)\n",
    "    return names"
   ]
  },
  {
   "cell_type": "code",
   "execution_count": 7,
   "metadata": {},
   "outputs": [],
   "source": [
    "def ensure_folder_exists(folder):\n",
    "    if not os.path.exists(folder):\n",
    "        os.makedirs(folder)"
   ]
  },
  {
   "cell_type": "code",
   "execution_count": 8,
   "metadata": {},
   "outputs": [],
   "source": [
    "def frames_to_segmented_frames(names):\n",
    "    frames=[]\n",
    "    for name in names:\n",
    "        img=load_img(name)\n",
    "        img=img_to_array(img)\n",
    "        frames.append(img)\n",
    "    #print(\"Segmentation done\")\n",
    "    return human_segmentation(np.asarray(frames))"
   ]
  },
  {
   "cell_type": "code",
   "execution_count": 9,
   "metadata": {},
   "outputs": [],
   "source": [
    "def action_prediction(action_frames):\n",
    "    action_frames=np.asarray(action_frames)\n",
    "    action_frames=action_frames[:,:,:,:]\n",
    "    action_frames = preprocess_input(action_frames)\n",
    "    new_frames=[]\n",
    "    # resize command\n",
    "    for i in range(action_frames.shape[0]):\n",
    "        new_frames.append(cv2.resize(action_frames[i,:,:,:], dsize=(224, 224), interpolation=cv2.INTER_CUBIC))\n",
    "    action_frames=np.asarray(new_frames)    \n",
    "    features=mobilenet_model.predict(action_frames)\n",
    "    features=np.reshape(features,(1,features.shape[0],features.shape[1]))\n",
    "    prediction=action_model.predict(features)\n",
    "    #print(prediction)\n",
    "    class_predicted=class_names[prediction.argmax()]\n",
    "    print(class_predicted)"
   ]
  },
  {
   "cell_type": "code",
   "execution_count": 10,
   "metadata": {},
   "outputs": [],
   "source": [
    "ensure_folder_exists(frame_target_dir)"
   ]
  },
  {
   "cell_type": "code",
   "execution_count": 16,
   "metadata": {},
   "outputs": [
    {
     "data": {
      "text/html": [
       "<img src=\"testing_gif/A_LOT.gif\"/>"
      ],
      "text/plain": [
       "<IPython.core.display.Image object>"
      ]
     },
     "metadata": {},
     "output_type": "display_data"
    },
    {
     "name": "stdout",
     "output_type": "stream",
     "text": [
      "Number of frames =  31\n",
      "A_LOT\n"
     ]
    }
   ],
   "source": [
    "for video in os.listdir(video_path):\n",
    "    video_path_cat = os.path.join(video_path,video)\n",
    "    frame_target_dir_cat = os.path.join(frame_target_dir,video[:-4])\n",
    "    if(video_path_cat.endswith(\".mp4\")):\n",
    "        display(Image(url='testing_gif/' + video[:-4] + '.gif'))\n",
    "        names=video_to_frames_other(video_path_cat,frame_target_dir_cat)\n",
    "        frames=frames_to_segmented_frames(names)\n",
    "        frames=np.asarray(frames)\n",
    "        action_prediction(frames)"
   ]
  },
  {
   "cell_type": "code",
   "execution_count": null,
   "metadata": {},
   "outputs": [],
   "source": []
  }
 ],
 "metadata": {
  "kernelspec": {
   "display_name": "Python 3",
   "language": "python",
   "name": "python3"
  },
  "language_info": {
   "codemirror_mode": {
    "name": "ipython",
    "version": 3
   },
   "file_extension": ".py",
   "mimetype": "text/x-python",
   "name": "python",
   "nbconvert_exporter": "python",
   "pygments_lexer": "ipython3",
   "version": "3.6.8"
  }
 },
 "nbformat": 4,
 "nbformat_minor": 2
}
