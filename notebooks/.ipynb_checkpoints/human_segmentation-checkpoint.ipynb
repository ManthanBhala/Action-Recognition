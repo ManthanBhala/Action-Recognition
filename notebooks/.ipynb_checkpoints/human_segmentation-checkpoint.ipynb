{
 "cells": [
  {
   "cell_type": "code",
   "execution_count": 1,
   "metadata": {},
   "outputs": [],
   "source": [
    "import base64\n",
    "import os\n",
    "import time\n",
    "\n",
    "import cv2\n",
    "import numpy as np\n",
    "import tensorflow as tf\n",
    "import shutil"
   ]
  },
  {
   "cell_type": "code",
   "execution_count": 2,
   "metadata": {},
   "outputs": [],
   "source": [
    "from PIL import Image"
   ]
  },
  {
   "cell_type": "code",
   "execution_count": 3,
   "metadata": {},
   "outputs": [],
   "source": [
    "def load_backgrounds():\n",
    "    bg_dict = {}\n",
    "    bg_dict['blank'] = np.zeros((480, 640, 3), np.uint8)\n",
    "\n",
    "    return bg_dict\n"
   ]
  },
  {
   "cell_type": "code",
   "execution_count": 4,
   "metadata": {},
   "outputs": [],
   "source": [
    "def image_encoder(image_np):\n",
    "    image_str = base64.b64encode(image_np)\n",
    "    image_height, image_width = image_np.shape[:2]\n",
    "    return image_str.decode('utf-8'), image_height, image_width\n"
   ]
  },
  {
   "cell_type": "code",
   "execution_count": 5,
   "metadata": {},
   "outputs": [],
   "source": [
    "def image_decoder(image_str, image_height, image_width, image_channels):\n",
    "    buffer = base64.decodebytes(image_str.encode('utf-8'))\n",
    "    image_flat_np = np.frombuffer(buffer, dtype=np.uint8)\n",
    "    image_np = image_flat_np.reshape(image_height, image_width, image_channels)\n",
    "    return image_np"
   ]
  },
  {
   "cell_type": "code",
   "execution_count": 6,
   "metadata": {},
   "outputs": [],
   "source": [
    "def read(file_name):\n",
    "    with open(file_name, \"rb\") as image_file:\n",
    "        val = base64.b64encode(image_file.read())\n",
    "    os.remove(file_name)\n",
    "    return val"
   ]
  },
  {
   "cell_type": "code",
   "execution_count": 7,
   "metadata": {},
   "outputs": [],
   "source": [
    "def read_write(frame, file_name):\n",
    "    frame = cv2.cvtColor(frame, cv2.COLOR_RGB2BGR)\n",
    "    cv2.imwrite(file_name, frame)\n",
    "    #print(file_name)\n",
    "    return read(file_name)\n"
   ]
  },
  {
   "cell_type": "code",
   "execution_count": 8,
   "metadata": {},
   "outputs": [],
   "source": [
    "def crop_center(img, cropx, cropy):\n",
    "    y, x = img.shape[:2]\n",
    "    startx = x//2-(cropx//2)\n",
    "    starty = y//2-(cropy//2)\n",
    "    return img[starty:starty+cropy, startx:startx+cropx]"
   ]
  },
  {
   "cell_type": "code",
   "execution_count": 9,
   "metadata": {},
   "outputs": [],
   "source": [
    "def uri_to_np(base64string):\n",
    "    encoding = bytes(base64string, 'utf-8')\n",
    "    fn = '/tmp/' + str(time.time())+'.jpg'\n",
    "\n",
    "    with open(fn, 'wb') as f:\n",
    "        f.write(base64.decodestring(encoding))\n",
    "\n",
    "    frame = cv2.cvtColor(cv2.imread(fn), cv2.COLOR_BGR2RGB)\n",
    "    frame = crop_center(frame, 640, 480)\n",
    "    os.remove(fn)\n",
    "    return frame"
   ]
  },
  {
   "cell_type": "code",
   "execution_count": 10,
   "metadata": {},
   "outputs": [],
   "source": [
    "def create_colormap(seg_map):\n",
    "    colormap = np.zeros((256, 3), dtype=int)\n",
    "    ind = np.arange(256, dtype=int)\n",
    "    for shift in reversed(range(8)):\n",
    "        for channel in range(3):\n",
    "            colormap[:, channel] |= ((ind >> channel) & 1) << shift\n",
    "        ind >>= 3\n",
    "    return colormap[seg_map]"
   ]
  },
  {
   "cell_type": "code",
   "execution_count": 11,
   "metadata": {},
   "outputs": [],
   "source": [
    "def load_graph(frozen_graph_filename):\n",
    "    with tf.gfile.GFile(frozen_graph_filename, \"rb\") as f:\n",
    "        graph_def = tf.GraphDef()\n",
    "        graph_def.ParseFromString(f.read())\n",
    "    with tf.Graph().as_default() as graph:\n",
    "        tf.import_graph_def(\n",
    "            graph_def,\n",
    "            input_map=None,\n",
    "            return_elements=None,\n",
    "            name=\"prefix\",\n",
    "            op_dict=None,\n",
    "            producer_op_list=None)\n",
    "    return graph"
   ]
  },
  {
   "cell_type": "code",
   "execution_count": 12,
   "metadata": {},
   "outputs": [],
   "source": [
    "def segmentation(image, sess, background):\n",
    "    resize_ratio = 1.0 * 513 / max(image.shape[0], image.shape[1])\n",
    "    target_size = (int(resize_ratio * image.shape[0]),\n",
    "                   int(resize_ratio * image.shape[1]))\n",
    "    resized_image = cv2.resize(image, target_size)\n",
    "    batch_seg_map = sess.run('prefix/SemanticPredictions:0',\n",
    "                             feed_dict={'prefix/ImageTensor:0': [resized_image]})\n",
    "\n",
    "    seg_map = batch_seg_map[0]\n",
    "    seg_map[seg_map != 15] = 0\n",
    "    seg_image = create_colormap(seg_map).astype(np.uint8)\n",
    "    kernel = np.ones((3, 3), np.uint8)\n",
    "    eroded_seg_image = cv2.erode(seg_image, kernel, iterations=3)\n",
    "    eroded_seg_image = cv2.resize(eroded_seg_image, (image.shape[1], image.shape[0]))\n",
    "    backg_dict = load_backgrounds()\n",
    "    out_img = np.where(eroded_seg_image > 0, image, backg_dict[background])\n",
    "\n",
    "    return out_img"
   ]
  },
  {
   "cell_type": "code",
   "execution_count": 13,
   "metadata": {},
   "outputs": [],
   "source": [
    "def emotion(image_name):\n",
    "    background_name = 'blank'\n",
    "    frame = cv2.imread(image_name)\n",
    "    frame = cv2.resize(frame,(640,480))\n",
    "    output_img = segmentation(image=frame, sess=sess_segmentation, background=background_name)\n",
    "    \n",
    "    return output_img"
   ]
  },
  {
   "cell_type": "code",
   "execution_count": 14,
   "metadata": {},
   "outputs": [
    {
     "name": "stdout",
     "output_type": "stream",
     "text": [
      "WARNING:tensorflow:From <ipython-input-11-3322ae8b58c7>:12: calling import_graph_def (from tensorflow.python.framework.importer) with op_dict is deprecated and will be removed in a future version.\n",
      "Instructions for updating:\n",
      "Please file an issue at https://github.com/tensorflow/tensorflow/issues if you depend on this feature.\n"
     ]
    }
   ],
   "source": [
    "MODEL_PATH = '../model/frozen_inference_graph.pb'\n",
    "graph_segmentation = load_graph(MODEL_PATH)\n",
    "config = tf.ConfigProto()\n",
    "config.gpu_options.per_process_gpu_memory_fraction = 0.3\n",
    "sess_segmentation = tf.Session(graph=graph_segmentation, config=config)"
   ]
  },
  {
   "cell_type": "code",
   "execution_count": 19,
   "metadata": {},
   "outputs": [],
   "source": [
    "def human_segmentation(input_path):\n",
    "    \"\"\"\n",
    "    Description : Does human segmentation of all images in input path \n",
    "    Input path should contain different folders for each category\n",
    "    Arguements : path to folder(Input path)\n",
    "    return : write images in target folder \"\"\"\n",
    "    \n",
    "    target_folder = \"../pipeline/test_seg1\"\n",
    "    if not os.path.isdir(target_folder):\n",
    "        os.mkdir(target_folder)\n",
    "        \n",
    "    for class_folder in os.listdir(input_path):\n",
    "        class_dir = os.path.join(input_path,class_folder)\n",
    "        print(class_dir)\n",
    "        target_class_dir = os.path.join(target_folder,class_folder) \n",
    "        \n",
    "        if not os.path.isdir(target_class_dir):\n",
    "            os.mkdir(target_class_dir)\n",
    "            \n",
    "        for img1 in os.listdir(class_dir):\n",
    "            #print(img1)\n",
    "            if(img1.endswith(\".jpeg\") or img1.endswith(\".jpg\")):\n",
    "                #print(img1)\n",
    "                img = class_dir + '/' + img1\n",
    "                #print(img)\n",
    "                img = emotion(img)\n",
    "                cv2.imwrite(target_class_dir +'/'+ img1 ,img)"
   ]
  }
 ],
 "metadata": {
  "kernelspec": {
   "display_name": "Python 3",
   "language": "python",
   "name": "python3"
  },
  "language_info": {
   "codemirror_mode": {
    "name": "ipython",
    "version": 3
   },
   "file_extension": ".py",
   "mimetype": "text/x-python",
   "name": "python",
   "nbconvert_exporter": "python",
   "pygments_lexer": "ipython3",
   "version": "3.6.8"
  }
 },
 "nbformat": 4,
 "nbformat_minor": 2
}
