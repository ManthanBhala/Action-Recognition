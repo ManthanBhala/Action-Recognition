{
 "cells": [
  {
   "cell_type": "code",
   "execution_count": 1,
   "metadata": {},
   "outputs": [
    {
     "name": "stdout",
     "output_type": "stream",
     "text": [
      "/model-data\n"
     ]
    }
   ],
   "source": [
    "from segmentation import *\n",
    "from mobilenetv2 import *"
   ]
  },
  {
   "cell_type": "code",
   "execution_count": 2,
   "metadata": {},
   "outputs": [
    {
     "name": "stdout",
     "output_type": "stream",
     "text": [
      "WARNING:tensorflow:From /model-data/pipeline/segmentation.py:75: calling import_graph_def (from tensorflow.python.framework.importer) with op_dict is deprecated and will be removed in a future version.\n",
      "Instructions for updating:\n",
      "Please file an issue at https://github.com/tensorflow/tensorflow/issues if you depend on this feature.\n"
     ]
    },
    {
     "name": "stderr",
     "output_type": "stream",
     "text": [
      "WARNING: Logging before flag parsing goes to stderr.\n",
      "W0710 12:10:05.876649 139971991963392 __init__.py:56] Some hub symbols are not available because TensorFlow version is less than 1.14\n",
      "Using TensorFlow backend.\n"
     ]
    }
   ],
   "source": [
    "import collections\n",
    "import hashlib\n",
    "import os.path\n",
    "import random\n",
    "import re\n",
    "import sys\n",
    "\n",
    "import numpy as np\n",
    "import tensorflow as tf\n",
    "import tensorflow_hub as hub\n",
    "import keras\n",
    "from keras.applications.mobilenet_v2 import MobileNetV2\n",
    "from keras.preprocessing import image\n",
    "from keras.applications.mobilenet_v2 import preprocess_input\n",
    "from keras.models import Model\n",
    "from keras.layers import Dense, Input, LSTM\n",
    "from pathlib import Path\n",
    "import sklearn\n",
    "from sklearn import datasets,metrics\n",
    "import shutil\n",
    "from keras import initializers\n",
    "from keras.models import load_model\n",
    "import pickle\n",
    "from keras.utils import to_categorical\n",
    "from keras.preprocessing import sequence\n",
    "from keras.preprocessing.image import load_img, array_to_img, img_to_array\n",
    "from IPython.display import Image,display,clear_output\n",
    "import cv2\n",
    "import matplotlib.pyplot as plt\n",
    "import time "
   ]
  },
  {
   "cell_type": "code",
   "execution_count": 3,
   "metadata": {},
   "outputs": [],
   "source": [
    "def get_pretrained_base_model_for_bottlenecks(show_model_summary = False):\n",
    "    #Arguments     : show_model_summary--> whether to show model summary/layers\n",
    "    #Returns       : models-->mobilenetV2 with its last layer being 'global_average_pooling2d_1'\n",
    "    \n",
    "    model = MobileNetV2()\n",
    "    if show_model_summary:\n",
    "        model.summary()\n",
    "    base_model = Model(inputs=model.input, outputs=model.get_layer('global_average_pooling2d_1').output)\n",
    "    print(\"Base_model_loaded 100 percent\")\n",
    "    return base_model"
   ]
  },
  {
   "cell_type": "code",
   "execution_count": 4,
   "metadata": {},
   "outputs": [
    {
     "name": "stdout",
     "output_type": "stream",
     "text": [
      "WARNING:tensorflow:From /usr/local/lib/python3.5/dist-packages/tensorflow/python/framework/op_def_library.py:263: colocate_with (from tensorflow.python.framework.ops) is deprecated and will be removed in a future version.\n",
      "Instructions for updating:\n",
      "Colocations handled automatically by placer.\n"
     ]
    },
    {
     "name": "stderr",
     "output_type": "stream",
     "text": [
      "W0710 12:10:31.958799 139971991963392 deprecation.py:323] From /usr/local/lib/python3.5/dist-packages/tensorflow/python/framework/op_def_library.py:263: colocate_with (from tensorflow.python.framework.ops) is deprecated and will be removed in a future version.\n",
      "Instructions for updating:\n",
      "Colocations handled automatically by placer.\n"
     ]
    },
    {
     "name": "stdout",
     "output_type": "stream",
     "text": [
      "WARNING:tensorflow:From /usr/local/lib/python3.5/dist-packages/keras/backend/tensorflow_backend.py:3445: calling dropout (from tensorflow.python.ops.nn_ops) with keep_prob is deprecated and will be removed in a future version.\n",
      "Instructions for updating:\n",
      "Please use `rate` instead of `keep_prob`. Rate should be set to `rate = 1 - keep_prob`.\n"
     ]
    },
    {
     "name": "stderr",
     "output_type": "stream",
     "text": [
      "W0710 12:10:31.986343 139971991963392 deprecation.py:506] From /usr/local/lib/python3.5/dist-packages/keras/backend/tensorflow_backend.py:3445: calling dropout (from tensorflow.python.ops.nn_ops) with keep_prob is deprecated and will be removed in a future version.\n",
      "Instructions for updating:\n",
      "Please use `rate` instead of `keep_prob`. Rate should be set to `rate = 1 - keep_prob`.\n"
     ]
    },
    {
     "name": "stdout",
     "output_type": "stream",
     "text": [
      "WARNING:tensorflow:From /usr/local/lib/python3.5/dist-packages/tensorflow/python/ops/math_ops.py:3066: to_int32 (from tensorflow.python.ops.math_ops) is deprecated and will be removed in a future version.\n",
      "Instructions for updating:\n",
      "Use tf.cast instead.\n"
     ]
    },
    {
     "name": "stderr",
     "output_type": "stream",
     "text": [
      "W0710 12:10:34.116387 139971991963392 deprecation.py:323] From /usr/local/lib/python3.5/dist-packages/tensorflow/python/ops/math_ops.py:3066: to_int32 (from tensorflow.python.ops.math_ops) is deprecated and will be removed in a future version.\n",
      "Instructions for updating:\n",
      "Use tf.cast instead.\n"
     ]
    },
    {
     "name": "stdout",
     "output_type": "stream",
     "text": [
      "Marker Model Loaded\n",
      "Base_model_loaded 100 percent\n",
      "Action Model Loaded\n"
     ]
    }
   ],
   "source": [
    "#Loading trained models\n",
    "\n",
    "marker_model=load_model(\"model/initial_human_seg_marker_model.h5\")\n",
    "action_model=load_model(\"eighth_try/human_seg_rnn_mask_model.h5\")\n",
    "mobilenet_model=get_pretrained_base_model_for_bottlenecks(False)\n",
    "class_names = ['ABOVE', 'ACCIDENT', 'ADVISE_or_INFLUENCE', 'AFTERNOON', 'AGAIN', 'ALLIGATOR', 'ANSWER' ,'A_LOT', 'BECAME', 'COME_HERE', 'EXCEED', 'GENERATION', 'LESS_THAN', 'OF' ,'THREAT', 'TOTAL']"
   ]
  },
  {
   "cell_type": "code",
   "execution_count": 6,
   "metadata": {},
   "outputs": [],
   "source": [
    "\n",
    "def video_to_frames(video_path):\n",
    "    #Arguments     : video_path-->path to the video location in storage\n",
    "    #Returns       : names-->list of path to all the frames of video\n",
    "    #                frame_cache-->numpy array containing frames \n",
    "    #Description   : Extracts frames from video\n",
    "    \n",
    "    vidObj = cv2.VideoCapture(video_path)\n",
    "    count = 0\n",
    "    success = 1\n",
    "    ensure_folder_exists(frame_target_dir)\n",
    "    names=[]\n",
    "    frame_cache=[]\n",
    "    while success: \n",
    "        success, image = vidObj.read() \n",
    "        if image is None:\n",
    "            continue\n",
    "        framename=frame_target_dir+str(count)+\".jpeg\"\n",
    "        #image=image[120:,320:-320,:]\n",
    "        #image=cv2.resize(image, dsize=(640,480), interpolation=cv2.INTER_CUBIC)\n",
    "        #im = Image.fromarray(image)\n",
    "        #im.save(framename)\n",
    "        #img = load_img(framename)\n",
    "        #image = img_to_array(img)\n",
    "        #image=cv2.imread(framename)\n",
    "        frame_cache.append(image)\n",
    "        cv2.imwrite(framename,image)\n",
    "        names.append(framename)\n",
    "        count += 1\n",
    "        \n",
    "    print(\"Video to frame done\")\n",
    "    return names,np.asarray(frame_cache)"
   ]
  },
  {
   "cell_type": "code",
   "execution_count": 7,
   "metadata": {},
   "outputs": [],
   "source": [
    "def ensure_folder_exists(folder):\n",
    "    if not os.path.exists(folder):\n",
    "        os.makedirs(folder)"
   ]
  },
  {
   "cell_type": "code",
   "execution_count": 8,
   "metadata": {},
   "outputs": [],
   "source": [
    "def frames_to_segmented_frames(names):\n",
    "    #Arguments     : names-->list of path to all the frames of video\n",
    "    #Returns       : frames-->numpy array containing segmented frames \n",
    "    #Description   : Do the human segmentation to each frame\n",
    "    \n",
    "    frames = []\n",
    "    ensure_folder_exists(seg_frame_target_dir)\n",
    "    count = 0\n",
    "    framenames = []\n",
    "    for name in names:\n",
    "        #img=load_img(name)\n",
    "        #img=img_to_array(img)\n",
    "        #frames.append(img)\n",
    "        framename=seg_frame_target_dir+str(count)+\".jpeg\"\n",
    "        framenames.append(framename)\n",
    "        count = count+1\n",
    "        if os.path.exists(framename):\n",
    "            continue\n",
    "        img = cv2.imread(name)\n",
    "        img = human_segmentation(np.reshape(img,(1,img.shape[0],img.shape[1],img.shape[2])))\n",
    "        img = np.asarray(img)\n",
    "        img = np.reshape(img, (img.shape[1],img.shape[2],img.shape[3]))\n",
    "        cv2.imwrite(framename, img)\n",
    "        \n",
    "    for framename in framenames:\n",
    "        img = load_img(framename)\n",
    "        img = img_to_array(img)\n",
    "        frames.append(img)\n",
    "    \n",
    "    print(\"Segmentation done\")\n",
    "    return frames"
   ]
  },
  {
   "cell_type": "code",
   "execution_count": 9,
   "metadata": {},
   "outputs": [],
   "source": [
    "def is_marker_frame(frame):\n",
    "    #Arguments     : frame-->frame array with shape (width,height,depth)\n",
    "    #Returns       : Boolean-->Is given frame is marker frame\n",
    "    #Description   : checks for marker using marker model\n",
    "    \n",
    "    if(len(frame.shape)==3):\n",
    "        frame=np.reshape(frame,(1,frame.shape[0],frame.shape[1],frame.shape[2]))\n",
    "    prediction=marker_model.predict(frame)\n",
    "    return prediction.argmax(axis=-1)"
   ]
  },
  {
   "cell_type": "code",
   "execution_count": 10,
   "metadata": {},
   "outputs": [],
   "source": [
    "def action_prediction(action_frames,end_buffer,j):\n",
    "    #Arguments     : action_frames-->list of frames on which gesture has to be predicted\n",
    "    #Returns       : Predicted class name\n",
    "    #Description   : uses mobilenetV2  model and rnn trained model to predict action\n",
    "    \n",
    "    action_frames=np.asarray(action_frames)\n",
    "    action_frames=action_frames[:-end_buffer,:,:,:]\n",
    "    action_frames = preprocess_input(action_frames)\n",
    "    new_frames=[]\n",
    "    # resize command\n",
    "    for i in range(action_frames.shape[0]):\n",
    "        new_frames.append(cv2.resize(action_frames[i,:,:,:], dsize=(224, 224), interpolation=cv2.INTER_CUBIC))\n",
    "    action_frames=np.asarray(new_frames)    \n",
    "    features=mobilenet_model.predict(action_frames)\n",
    "    features=np.reshape(features,(1,features.shape[0],features.shape[1]))\n",
    "    prediction=action_model.predict(features)\n",
    "    #print(prediction)\n",
    "    class_predicted=class_names[prediction.argmax()]\n",
    "    #print(\"Action \"+ str(j) + \"- \" + class_predicted)\n",
    "    return \"Action \"+str(j)+\"- \"+class_predicted"
   ]
  },
  {
   "cell_type": "code",
   "execution_count": 11,
   "metadata": {},
   "outputs": [],
   "source": [
    "def marker_analysis(marker_counter,nonmarker_counter,continouos_marker,continouos_nonmarker,current_status):\n",
    "    #Description   : This function checks what is status currently while propagating through frames and \n",
    "    #                whether marker has ended/started/going-on.\n",
    "    \n",
    "    if(continouos_marker>=5):\n",
    "        if(current_status!=\"marker\"):\n",
    "            return \"marker_starts\"\n",
    "    if(continouos_nonmarker>=5):\n",
    "        if(current_status!=\"append_frames\"):\n",
    "            return \"action_starts\"\n",
    "    else:\n",
    "        return \"nothing\""
   ]
  },
  {
   "cell_type": "code",
   "execution_count": 12,
   "metadata": {},
   "outputs": [],
   "source": [
    "# Initialising directory paths\n",
    "video_path=\"pipeline/xyz_our.mp4\"\n",
    "frame_target_dir=\"pipeline/xyz_ours/\"\n",
    "seg_frame_target_dir = \"pipeline/xyz_seg_ours/\""
   ]
  },
  {
   "cell_type": "code",
   "execution_count": 23,
   "metadata": {},
   "outputs": [
    {
     "data": {
      "image/png": "[encoded data removed]",
      "text/plain": [
       "<Figure size 432x288 with 1 Axes>"
      ]
     },
     "metadata": {
      "needs_background": "light"
     },
     "output_type": "display_data"
    },
    {
     "name": "stdout",
     "output_type": "stream",
     "text": [
      "Start frames =  [12, 212]\n",
      "End frames =  [73, 268]\n",
      "Number of action= 2\n",
      "Action 1- AFTERNOON\n",
      "Action 2- AGAIN\n"
     ]
    }
   ],
   "source": [
    "#Main pipeline execution\n",
    "\n",
    "number_of_action=0\n",
    "marker_counter=0\n",
    "nonmarker_counter=0\n",
    "continouos_marker=0\n",
    "continouos_nonmarker=0\n",
    "i=0\n",
    "start_frame=[]\n",
    "end_frame=[]\n",
    "action_frame_cache=[]\n",
    "action_cache=[]\n",
    "end_buffer=5\n",
    "current_status=\"marker\"\n",
    "next_step=\"nothing\"\n",
    "\n",
    "\n",
    "#First we extract frames from video and then do human segmentation on them\n",
    "names,frame_cache=video_to_frames(video_path)\n",
    "frames=frames_to_segmented_frames(names)\n",
    "frames=np.asarray(frames)\n",
    "marker_cache=[]\n",
    "print(\"marker_starts\")\n",
    "\n",
    "\n",
    "#We propagate through all frames check is current frame is marker or not.\n",
    "#We also keep track of how many of the last few frames are marker/non-marker\n",
    "#And on the basis of that we decide whether marker has started/ended.\n",
    "#Whenever marker ends, we start stacking till marker starts so that \n",
    "#stacked up frames(representing some action) can be feeded to model\n",
    "#to get prediction accordingly\n",
    "\n",
    "for frame in frames:\n",
    "    if(is_marker_frame(frame/255)):\n",
    "        #print(i,\"Marker\")\n",
    "        marker_cache.append(\"No Gesture Happening\")\n",
    "        marker_counter+=1\n",
    "        continouos_marker+=1\n",
    "        continouos_nonmarker=0   \n",
    "        if i%3==0:\n",
    "            clear_output(wait=True)\n",
    "            plt.imshow(cv2.cvtColor(frame_cache[i,:,:,:], cv2.COLOR_BGR2RGB))\n",
    "            plt.xlabel(\"No Gesture\",fontsize=18)\n",
    "            plt.pause(0.001)\n",
    "    else:\n",
    "        #print(i,\"Non-Marker\")\n",
    "        marker_cache.append(\"Gesture Happening\")\n",
    "        nonmarker_counter+=1\n",
    "        continouos_marker=0\n",
    "        continouos_nonmarker+=1\n",
    "        if i%6==0:\n",
    "            clear_output(wait=True)\n",
    "            plt.imshow(cv2.cvtColor(frame_cache[i,:,:,:], cv2.COLOR_BGR2RGB))\n",
    "            plt.xlabel(\"Gesture\",fontsize=18)\n",
    "            plt.pause(0.001)\n",
    "        \n",
    "    next_step=marker_analysis(marker_counter,nonmarker_counter,continouos_marker,continouos_nonmarker,current_status)\n",
    "    if(next_step==\"action_starts\"):\n",
    "         #print(next_step)\n",
    "        current_status=\"append_frames\"\n",
    "        number_of_action+=1\n",
    "        start_frame.append(i)\n",
    "        next_step=\"nothing\"\n",
    "    if(next_step==\"marker_starts\"):\n",
    "        #print(number_of_action)\n",
    "        action_cache.append(action_prediction(action_frame_cache,end_buffer,number_of_action))\n",
    "         #print(next_step)\n",
    "        action_frame_cache=[]\n",
    "        current_status=\"marker\"\n",
    "        end_frame.append(i)\n",
    "        next_step=\"nothing\"\n",
    "    i+=1 \n",
    "    if(current_status==\"append_frames\"):\n",
    "        action_frame_cache.append(frame)\n",
    "        \n",
    "#print(\"marker=\",marker_counter)\n",
    "#print(\"non-marker=\",nonmarker_counter)\n",
    "print(\"Start frames = \",start_frame)\n",
    "print(\"End frames = \",end_frame)\n",
    "print(\"Number of action=\",number_of_action)\n",
    "for i in range(len(action_cache)):\n",
    "    print(action_cache[i])"
   ]
  },
  {
   "cell_type": "code",
   "execution_count": null,
   "metadata": {},
   "outputs": [],
   "source": []
  }
 ],
 "metadata": {
  "kernelspec": {
   "display_name": "Python 3",
   "language": "python",
   "name": "python3"
  },
  "language_info": {
   "codemirror_mode": {
    "name": "ipython",
    "version": 3
   },
   "file_extension": ".py",
   "mimetype": "text/x-python",
   "name": "python",
   "nbconvert_exporter": "python",
   "pygments_lexer": "ipython3",
   "version": "3.5.3"
  }
 },
 "nbformat": 4,
 "nbformat_minor": 2
}
